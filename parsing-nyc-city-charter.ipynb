{
 "cells": [
  {
   "cell_type": "code",
   "execution_count": 1,
   "metadata": {},
   "outputs": [],
   "source": [
    " import pandas as pd"
   ]
  },
  {
   "cell_type": "code",
   "execution_count": 2,
   "metadata": {},
   "outputs": [],
   "source": [
    "# open the NYC city charter text file exported from\n",
    "# http://library.amlegal.com/nxt/gateway.dll/New%20York/charter/newyorkcitycharter?f=templates$fn=default.htm$3.0$vid=amlegal:newyork_ny\n",
    "f = open('document.txt', 'r')"
   ]
  },
  {
   "cell_type": "code",
   "execution_count": 3,
   "metadata": {},
   "outputs": [],
   "source": [
    "# split the text content into individual lines\n",
    "lines = f.readlines()"
   ]
  },
  {
   "cell_type": "code",
   "execution_count": 4,
   "metadata": {},
   "outputs": [],
   "source": [
    "# create empty dataframe that will be used to capture sections of the charter that contain our targetted keywords\n",
    "df = pd.DataFrame(columns=['Chapter', 'Section'])"
   ]
  },
  {
   "cell_type": "code",
   "execution_count": 5,
   "metadata": {},
   "outputs": [],
   "source": [
    "i = 0\n",
    "for line in lines:\n",
    "    # get the chapter the line is within. this value stays constant until the next chapter is entered.\n",
    "    if line.startswith('Chapter'):\n",
    "        chapter = line[7:(len(line)-1)]\n",
    "\n",
    "    # get the section the line is within. this value stays constant until the next section is entered.\n",
    "    if line.startswith('Section'):\n",
    "        section = line[7:(len(line)-1)]\n",
    "    \n",
    "    # see if keywords are present in the line\n",
    "    keywords = [\n",
    "        \"public review\",\n",
    "        \"public hearing\",\n",
    "        \"vote\",\n",
    "        \"public participation\"\n",
    "    ]\n",
    "    count = 0\n",
    "    for keyword in keywords:\n",
    "        count += line.count(keyword)\n",
    "    if count > 0:\n",
    "        df = df.append({'Chapter' : chapter , 'Section' : section} , ignore_index=True)\n",
    "\n",
    "    # increase line number for next line\n",
    "    i += 1"
   ]
  },
  {
   "cell_type": "code",
   "execution_count": 6,
   "metadata": {},
   "outputs": [],
   "source": [
    "df = df.drop_duplicates()\n",
    "df.to_csv('inventory.csv')"
   ]
  }
 ],
 "metadata": {
  "kernelspec": {
   "display_name": "Python 3",
   "language": "python",
   "name": "python3"
  },
  "language_info": {
   "codemirror_mode": {
    "name": "ipython",
    "version": 3
   },
   "file_extension": ".py",
   "mimetype": "text/x-python",
   "name": "python",
   "nbconvert_exporter": "python",
   "pygments_lexer": "ipython3",
   "version": "3.7.3"
  }
 },
 "nbformat": 4,
 "nbformat_minor": 2
}
